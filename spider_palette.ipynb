{
 "cells": [
  {
   "cell_type": "markdown",
   "metadata": {},
   "source": [
    "# 以下函数用于 [colourlovers](http://www.colourlovers.com/palettes/new/all-time/meta?page=3)"
   ]
  },
  {
   "cell_type": "markdown",
   "metadata": {},
   "source": [
    "### 启动浏览器引擎 "
   ]
  },
  {
   "cell_type": "code",
   "execution_count": null,
   "metadata": {},
   "outputs": [],
   "source": [
    "import json\n",
    "from selenium import webdriver\n",
    "import multiprocessing as mp\n",
    "browser = webdriver.Chrome('./chromedriver')"
   ]
  },
  {
   "cell_type": "markdown",
   "metadata": {},
   "source": [
    "### 开始批量下载每个页面上的配色方案"
   ]
  },
  {
   "cell_type": "code",
   "execution_count": null,
   "metadata": {},
   "outputs": [],
   "source": [
    "full_dicts = {}\n",
    "for m in range(0,2):\n",
    "    browser.get(\"https://www.colourlovers.com/palettes/most-loved/all-time/meta?page={}\".format(str(m)))\n",
    "    a=browser.find_elements_by_class_name(\"detail-row\")\n",
    "\n",
    "    for n,j in enumerate(a):\n",
    "#         print('**********************************')\n",
    "        full_dicts[str(m*(n+1))] = []\n",
    "        b = j.find_elements_by_class_name(\"c\")\n",
    "        if len(b) == 10:\n",
    "            for k,i in enumerate(b):\n",
    "                if k < 5:\n",
    "                    content = i.get_attribute('style')\n",
    "                    color = content.split('rgb')[-1].split(';')[0]\n",
    "#                     print(color)\n",
    "                    full_dicts[str(m*(n+1))].append(color)\n",
    "    print('Process Done the %dth page' % m)"
   ]
  },
  {
   "cell_type": "markdown",
   "metadata": {},
   "source": [
    "### 以json的格式保存数据"
   ]
  },
  {
   "cell_type": "code",
   "execution_count": null,
   "metadata": {},
   "outputs": [],
   "source": [
    "with open('colorlove.json','w',encoding='utf-8') as f:\n",
    "    json.dump(full_dicts,f,ensure_ascii=False)"
   ]
  },
  {
   "cell_type": "markdown",
   "metadata": {},
   "source": [
    "# 以下函数用于 [coolors](https://coolors.co/browser/best/1)"
   ]
  },
  {
   "cell_type": "code",
   "execution_count": null,
   "metadata": {},
   "outputs": [],
   "source": [
    "from selenium import webdriver\n",
    "from selenium.webdriver.common.by import By\n",
    "from selenium.webdriver.support.ui import WebDriverWait\n",
    "from selenium.webdriver.support import expected_conditions as EC\n",
    "from selenium.webdriver.chrome.options import Options\n",
    "options = Options()\n",
    "options.add_argument('--headless')\n",
    "options.add_argument('--no-sandbox')\n",
    "options.add_argument('--disable-dev-shm-usage')\n",
    "browser = webdriver.Chrome(executable_path=\"./chromedriver\")\n",
    "# browser = webdriver.Chrome('./chromedriver')\n",
    "# from pyvirtualdisplay import Display\n",
    "# display = Display(visible=0,size=(800,600))"
   ]
  },
  {
   "cell_type": "code",
   "execution_count": null,
   "metadata": {},
   "outputs": [],
   "source": [
    "def str2tuple(a):\n",
    "#     print(a)\n",
    "    b = a.replace('(','').replace(')','').replace(' ','').split(',')\n",
    "    return tuple([int(i) for i in b])\n",
    "\n",
    "def rgb2hex(value):\n",
    "    digit = list(map(str, range(10))) + list(\"ABCDEF\")\n",
    "    string = '#'\n",
    "    for i in value:\n",
    "        a1 = i // 16\n",
    "        a2 = i % 16\n",
    "        string += digit[a1] + digit[a2]\n",
    "    return string"
   ]
  },
  {
   "cell_type": "code",
   "execution_count": null,
   "metadata": {},
   "outputs": [],
   "source": [
    "full_dicts = {}\n",
    "count = 0\n",
    "for i in range(1,2):\n",
    "    browser.get('https://coolors.co/browser/best/{}'.format(str(i)))\n",
    "    tag = True\n",
    "\n",
    "\n",
    "    new_dict = {}\n",
    "#     palette_names = WebDriverWait(browser, 30).until(\n",
    "#         EC.presence_of_element_located((By.CLASS_NAME, \"browser-palette-name\"))\n",
    "#     )\n",
    "    \n",
    "#     palette_colors = WebDriverWait(browser, 30).until(\n",
    "#         EC.presence_of_element_located((By.CLASS_NAME, \"browser-palette-colors\"))\n",
    "#     )\n",
    "    \n",
    "    palette_names = browser.find_elements_by_class_name(name='browser-palette-name')\n",
    "    palette_colors = browser.find_elements_by_class_name(name='browser-palette-colors')\n",
    "    for browser_name,browser_colors in zip(palette_names,palette_colors):\n",
    "        name = browser_name.find_element_by_class_name(name='name').text + str(count)\n",
    "        browser_color = browser_colors.find_elements_by_tag_name('div')\n",
    "        colors = []\n",
    "        for color in browser_color:\n",
    "            color = color.get_attribute('style') # 'background: rgb(36, 123, 160);'\n",
    "            color = color.split('rgb')[-1].split(';')[0]\n",
    "            color = rgb2hex(str2tuple(color))\n",
    "            colors.append(color)\n",
    "        new_dict[name] = colors\n",
    "        count += 1\n",
    "    full_dicts = dict(full_dicts,**new_dict)\n",
    "    del new_dict\n",
    "    print('process done page {}...'.format(str(i)))\n",
    "    tag = False\n",
    "\n"
   ]
  },
  {
   "cell_type": "markdown",
   "metadata": {},
   "source": [
    "# 以下函数用于 [配色网](http://peise.net)"
   ]
  },
  {
   "cell_type": "code",
   "execution_count": null,
   "metadata": {},
   "outputs": [],
   "source": [
    "from __future__ import unicode_literals\n",
    "from urllib import request\n",
    "import chardet\n",
    "from bs4 import BeautifulSoup\n",
    "import re\n",
    "import json\n",
    "import os"
   ]
  },
  {
   "cell_type": "code",
   "execution_count": null,
   "metadata": {},
   "outputs": [],
   "source": [
    "import time\n",
    "a = None\n",
    "def parsing(dct,url):\n",
    "    begin = time.time()\n",
    "    global a\n",
    "    response = request.urlopen(url)\n",
    "    html = response.read()\n",
    "    charset = chardet.detect(html)\n",
    "    html = html.decode('gbk')\n",
    "    soup = BeautifulSoup(html, \"html.parser\")\n",
    "    parse = soup.find_all('li','listpalette')\n",
    "#     pages = soup.find_all(href=re.compile(\"^palette/\"))\n",
    "    pages = soup.find_all(href=re.compile(\"^http://peise.net/tag.php\"))\n",
    "\n",
    "    for p in parse:\n",
    "        author_named = p.h3.text\n",
    "#         print(author_named)\n",
    "        title = p.h6.text\n",
    "        \n",
    "        dct[author_named] = []\n",
    "        p = p.find_all('span')\n",
    "        for pp in p:\n",
    "            pp = pp['style'].split(':')[-1]\n",
    "            dct[author_named].append(pp)\n",
    "    # print(dct)\n",
    "    end = time.time()\n",
    "    print(\"It takes %fs to read:%s\" % ((end-begin,url)))\n",
    "    if pages[-1]['href'] == url:\n",
    "        a = dct\n",
    "        return\n",
    "    else:\n",
    "#         new_url = \"http://www.peise.net/\"+pages[-2]['href']\n",
    "        new_url = pages[-2]['href']\n",
    "#         print(new_url)\n",
    "        if new_url == url:\n",
    "            return \n",
    "        #new_url = pages[-2]['href']\n",
    "        parsing(dct,new_url)\n"
   ]
  },
  {
   "cell_type": "code",
   "execution_count": null,
   "metadata": {},
   "outputs": [],
   "source": [
    "count = {}\n",
    "with open('use_title.txt','r') as f:\n",
    "    f = f.readlines()\n",
    "    root = 'http://peise.net/tag.php?tag='\n",
    "    for info in f:\n",
    "        info = info.split()\n",
    "        path = info[0]\n",
    "        name = info[1].split('\\n')[0]\n",
    "        dct = {}\n",
    "        parsing(dct,root+path)\n",
    "        with open('titles/{}.json'.format(name),'w',encoding='utf-8') as f:\n",
    "            json.dump(dct,f,ensure_ascii=False)\n",
    "#         count[name] = len(dct)\n",
    "        "
   ]
  },
  {
   "cell_type": "code",
   "execution_count": null,
   "metadata": {},
   "outputs": [],
   "source": [
    "with open('titles/{}.json'.format('count'),'w',encoding='utf-8') as f:\n",
    "    json.dump(count,f,ensure_ascii=False)"
   ]
  }
 ],
 "metadata": {
  "kernelspec": {
   "display_name": "Python 3",
   "language": "python",
   "name": "python3"
  },
  "language_info": {
   "codemirror_mode": {
    "name": "ipython",
    "version": 3
   },
   "file_extension": ".py",
   "mimetype": "text/x-python",
   "name": "python",
   "nbconvert_exporter": "python",
   "pygments_lexer": "ipython3",
   "version": "3.7.3"
  }
 },
 "nbformat": 4,
 "nbformat_minor": 2
}
